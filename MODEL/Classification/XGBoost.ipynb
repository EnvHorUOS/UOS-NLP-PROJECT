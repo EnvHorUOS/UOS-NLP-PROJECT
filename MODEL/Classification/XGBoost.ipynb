{
 "cells": [
  {
   "cell_type": "markdown",
   "id": "045b3057-5d03-479d-84af-2e4d51e8025c",
   "metadata": {},
   "source": [
    "# Feature vector를 input data로 사용하는 XGBoost 모델"
   ]
  },
  {
   "cell_type": "code",
   "execution_count": null,
   "id": "3a613864-8536-4039-8901-c481256eb5c2",
   "metadata": {},
   "outputs": [],
   "source": [
    "# Importing Libraries\n",
    "import numpy as np\n",
    "import pandas as pd\n",
    "import xgboost as xgb\n",
    "import matplotlib.pyplot as plt\n",
    "\n",
    "# Sklearn Metrics\n",
    "from sklearn.metrics import (\n",
    "    accuracy_score,\n",
    "    f1_score,\n",
    "    classification_report,\n",
    "    roc_curve,\n",
    "    auc\n",
    ")"
   ]
  },
  {
   "cell_type": "markdown",
   "id": "96ef5ea8-35f8-4565-9acd-db496d55e82c",
   "metadata": {},
   "source": [
    "## 모델 학습"
   ]
  },
  {
   "cell_type": "code",
   "execution_count": 1,
   "id": "fbb83052-4cec-4c6c-884a-7451d6dc54e0",
   "metadata": {},
   "outputs": [],
   "source": [
    "# 공통 경로 설정\n",
    "base_path = \"./MODEL\" # 사용자 지정"
   ]
  },
  {
   "cell_type": "code",
   "execution_count": null,
   "id": "600825f0-214a-4a4b-9265-738130e1573b",
   "metadata": {},
   "outputs": [],
   "source": [
    "# 파일 경로 설정\n",
    "train_feature_file = f\"{base_path}/FeatureVector/train_features.npy\"\n",
    "train_label_file = f\"{base_path}/FeatureVector/train_labels.npy\"\n",
    "dev_feature_file = f\"{base_path}/FeatureVector/dev_features.npy\"\n",
    "dev_label_file = f\"{base_path}/FeatureVector/dev_labels.npy\"\n",
    "test_feature_file = f\"{base_path}/FeatureVector/test_features.npy\"\n",
    "test_label_file = f\"{base_path}/FeatureVector/test_labels.npy\"\n",
    "\n",
    "output_csv = f\"{base_path}/FeatureVector/prediction_output.csv\"   # 결과 저장 경로\n",
    "\n",
    "# Train 및 Dev 데이터 로드\n",
    "train_features = np.load(train_feature_file)\n",
    "train_labels = np.load(train_label_file)\n",
    "dev_features = np.load(dev_feature_file)\n",
    "dev_labels = np.load(dev_label_file)\n",
    "\n",
    "# Train-Dev 합치기\n",
    "X_train = np.vstack((train_features, dev_features))\n",
    "y_train = np.hstack((train_labels, dev_labels))\n",
    "\n",
    "# Test 데이터 로드\n",
    "X_test = np.load(test_feature_file)\n",
    "y_test = np.load(test_label_file)\n",
    "\n",
    "# XGBoost 모델 학습\n",
    "model = xgb.XGBClassifier(use_label_encoder=False, eval_metric=\"logloss\")\n",
    "model.fit(X_train, y_train)\n",
    "\n",
    "# Test 데이터 예측\n",
    "predictions = model.predict(X_test)\n",
    "prediction_probabilities = model.predict_proba(X_test)[:, 1]  # class 1의 확률 (probabilities)\n",
    "\n",
    "# 원래 label과 예측된 label을 묶어서 저장\n",
    "output_data = pd.DataFrame({\n",
    "    \"label\": y_test,\n",
    "    \"predicted_label\": predictions,\n",
    "    \"probability\": prediction_probabilities\n",
    "})\n",
    "output_data.to_csv(output_csv, index=False)\n",
    "\n",
    "print(f\"Prediction results saved to {output_csv}\")\n"
   ]
  },
  {
   "cell_type": "markdown",
   "id": "12286e38-425c-4322-b32b-518d6e0b2df8",
   "metadata": {},
   "source": [
    "# 모델 성능 평가"
   ]
  },
  {
   "cell_type": "code",
   "execution_count": null,
   "id": "ad2cb1f1-125e-4127-8c4a-7908f4925ee1",
   "metadata": {},
   "outputs": [],
   "source": [
    "# Classification report\n",
    "\n",
    "# 원래 라벨과 예측된 라벨 추출\n",
    "true_labels = output_data['label']\n",
    "predicted_labels = output_data['predicted_label']\n",
    "\n",
    "# Classification Report 생성\n",
    "report = classification_report(true_labels, predicted_labels, target_names=['Class 0', 'Class 1'])\n",
    "\n",
    "# 출력\n",
    "print(\"Classification Report:\")\n",
    "print(report)"
   ]
  },
  {
   "cell_type": "markdown",
   "id": "4c70828b-8782-4743-b252-e3c2f45ae933",
   "metadata": {},
   "source": [
    "Classification Report:\n",
    "              precision    recall  f1-score   support\n",
    "\n",
    "     Class 0       0.96      0.92      0.94      8054\n",
    "     Class 1       0.92      0.96      0.94      7963\n",
    "\n",
    "    accuracy                           0.94     16017\n",
    "   macro avg       0.94      0.94      0.94     16017\n",
    "weighted avg       0.94      0.94      0.94     16017"
   ]
  },
  {
   "cell_type": "code",
   "execution_count": null,
   "id": "979d8f30-64e2-4ad4-a2e2-ed5599680e13",
   "metadata": {},
   "outputs": [],
   "source": [
    "# ROC Curve 계산 및 그리기\n",
    "fpr, tpr, thresholds = roc_curve(y_test, prediction_probabilities)\n",
    "roc_auc = auc(fpr, tpr)\n",
    "\n",
    "# 그래프 그리기\n",
    "plt.figure()\n",
    "plt.plot(fpr, tpr, color='darkorange', lw=2, label=f'ROC curve (AUC = {roc_auc:.2f})')\n",
    "plt.plot([0, 1], [0, 1], color='navy', lw=2, linestyle='--')\n",
    "plt.xlabel('False Positive Rate')\n",
    "plt.ylabel('True Positive Rate')\n",
    "plt.title('ROC Curve')\n",
    "plt.legend(loc='lower right')\n",
    "plt.show()\n",
    "\n",
    "print(f\"AUC (Area Under the Curve): {roc_auc:.4f}\")"
   ]
  }
 ],
 "metadata": {
  "kernelspec": {
   "display_name": "Python 3 (ipykernel)",
   "language": "python",
   "name": "python3"
  },
  "language_info": {
   "codemirror_mode": {
    "name": "ipython",
    "version": 3
   },
   "file_extension": ".py",
   "mimetype": "text/x-python",
   "name": "python",
   "nbconvert_exporter": "python",
   "pygments_lexer": "ipython3",
   "version": "3.12.7"
  }
 },
 "nbformat": 4,
 "nbformat_minor": 5
}
